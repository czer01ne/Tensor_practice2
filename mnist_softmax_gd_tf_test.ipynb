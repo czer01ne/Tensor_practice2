{
 "cells": [
  {
   "cell_type": "code",
   "execution_count": 2,
   "metadata": {},
   "outputs": [
    {
     "name": "stderr",
     "output_type": "stream",
     "text": [
      "/home/user/anaconda3/lib/python3.6/site-packages/h5py/__init__.py:34: FutureWarning: Conversion of the second argument of issubdtype from `float` to `np.floating` is deprecated. In future, it will be treated as `np.float64 == np.dtype(float).type`.\n  from ._conv import register_converters as _register_converters\n"
     ]
    }
   ],
   "source": [
    "# %load mnist_softmax_gd_tf_test.py\n",
    "# Copyright (c) 2016-2017, Deogtae Kim & DTWARE Inc. All rights reserved.\n",
    "import os\n",
    "# os.environ[\"CUDA_VISIBLE_DEVICES\"] = \",\"      # cpu 사용시\n",
    "# del os.environ[\"CUDA_VISIBLE_DEVICES\"]\n",
    "\n",
    "import tensorflow as tf\n",
    "import numpy as np\n",
    "import matplotlib.pyplot as plt\n",
    "\n",
    "tf.reset_default_graph()        # 커널 재시작까지 할 필요 없다.\n",
    "tf.set_random_seed(107)         # 랜덤 seed를 설정해줘서 같은 랜덤 넘버가 생성(그래야 동일한 결과 재현 가능)"
   ]
  },
  {
   "cell_type": "code",
   "execution_count": 3,
   "metadata": {},
   "outputs": [
    {
     "name": "stdout",
     "output_type": "stream",
     "text": [
      "WARNING:tensorflow:From <ipython-input-3-3141ce131bce>:4: read_data_sets (from tensorflow.contrib.learn.python.learn.datasets.mnist) is deprecated and will be removed in a future version.\nInstructions for updating:\nPlease use alternatives such as official/mnist/dataset.py from tensorflow/models.\n"
     ]
    },
    {
     "name": "stdout",
     "output_type": "stream",
     "text": [
      "WARNING:tensorflow:From /home/user/anaconda3/lib/python3.6/site-packages/tensorflow/contrib/learn/python/learn/datasets/mnist.py:260: maybe_download (from tensorflow.contrib.learn.python.learn.datasets.base) is deprecated and will be removed in a future version.\nInstructions for updating:\nPlease write your own downloading logic.\n"
     ]
    },
    {
     "name": "stdout",
     "output_type": "stream",
     "text": [
      "WARNING:tensorflow:From /home/user/anaconda3/lib/python3.6/site-packages/tensorflow/contrib/learn/python/learn/datasets/mnist.py:262: extract_images (from tensorflow.contrib.learn.python.learn.datasets.mnist) is deprecated and will be removed in a future version.\nInstructions for updating:\nPlease use tf.data to implement this functionality.\n"
     ]
    },
    {
     "name": "stdout",
     "output_type": "stream",
     "text": [
      "Extracting MNIST_data/train-images-idx3-ubyte.gz\nWARNING:tensorflow:From /home/user/anaconda3/lib/python3.6/site-packages/tensorflow/contrib/learn/python/learn/datasets/mnist.py:267: extract_labels (from tensorflow.contrib.learn.python.learn.datasets.mnist) is deprecated and will be removed in a future version.\nInstructions for updating:\nPlease use tf.data to implement this functionality.\n"
     ]
    },
    {
     "name": "stdout",
     "output_type": "stream",
     "text": [
      "Extracting MNIST_data/train-labels-idx1-ubyte.gz\n"
     ]
    },
    {
     "name": "stdout",
     "output_type": "stream",
     "text": [
      "WARNING:tensorflow:From /home/user/anaconda3/lib/python3.6/site-packages/tensorflow/contrib/learn/python/learn/datasets/mnist.py:110: dense_to_one_hot (from tensorflow.contrib.learn.python.learn.datasets.mnist) is deprecated and will be removed in a future version.\nInstructions for updating:\nPlease use tf.one_hot on tensors.\n"
     ]
    },
    {
     "name": "stdout",
     "output_type": "stream",
     "text": [
      "Extracting MNIST_data/t10k-images-idx3-ubyte.gz\n"
     ]
    },
    {
     "name": "stdout",
     "output_type": "stream",
     "text": [
      "Extracting MNIST_data/t10k-labels-idx1-ubyte.gz\nWARNING:tensorflow:From /home/user/anaconda3/lib/python3.6/site-packages/tensorflow/contrib/learn/python/learn/datasets/mnist.py:290: DataSet.__init__ (from tensorflow.contrib.learn.python.learn.datasets.mnist) is deprecated and will be removed in a future version.\nInstructions for updating:\nPlease use alternatives such as official/mnist/dataset.py from tensorflow/models.\n"
     ]
    }
   ],
   "source": [
    "## 데이터 수집\n",
    "\n",
    "from tensorflow.examples.tutorials.mnist import input_data\n",
    "mnist = input_data.read_data_sets('MNIST_data', one_hot=True)"
   ]
  },
  {
   "cell_type": "code",
   "execution_count": 4,
   "metadata": {},
   "outputs": [
    {
     "name": "stdout",
     "output_type": "stream",
     "text": [
      "<class 'tensorflow.contrib.learn.python.learn.datasets.mnist.DataSet'>\n['__add__', '__class__', '__contains__', '__delattr__', '__dir__', '__doc__', '__eq__', '__format__', '__ge__', '__getattribute__', '__getitem__', '__getnewargs__', '__gt__', '__hash__', '__init__', '__init_subclass__', '__iter__', '__le__', '__len__', '__lt__', '__module__', '__mul__', '__ne__', '__new__', '__reduce__', '__reduce_ex__', '__repr__', '__rmul__', '__setattr__', '__sizeof__', '__slots__', '__str__', '__subclasshook__', '_asdict', '_fields', '_make', '_replace', '_source', 'count', 'index', 'test', 'train', 'validation']\n<class 'numpy.ndarray'> <class 'numpy.ndarray'>\n(55000, 784)\n(784,)\n[0.         0.         0.         0.         0.         0.\n 0.         0.         0.         0.         0.         0.\n 0.         0.         0.         0.         0.         0.\n 0.         0.         0.         0.         0.         0.\n 0.         0.         0.         0.         0.         0.\n 0.         0.         0.         0.         0.         0.\n 0.         0.         0.         0.         0.         0.\n 0.         0.         0.         0.         0.         0.\n 0.         0.         0.         0.         0.         0.\n 0.         0.         0.         0.         0.         0.\n 0.         0.         0.         0.         0.         0.\n 0.         0.         0.         0.         0.         0.\n 0.         0.         0.         0.         0.         0.\n 0.         0.         0.         0.         0.         0.\n 0.         0.         0.         0.         0.         0.\n 0.         0.         0.         0.         0.         0.\n 0.         0.         0.         0.         0.         0.\n 0.         0.         0.         0.         0.         0.\n 0.         0.         0.         0.         0.         0.\n 0.         0.         0.         0.         0.         0.\n 0.         0.         0.         0.         0.         0.\n 0.         0.         0.         0.         0.         0.\n 0.         0.         0.         0.         0.         0.\n 0.         0.         0.         0.         0.         0.\n 0.         0.         0.         0.         0.         0.\n 0.         0.         0.         0.         0.         0.\n 0.         0.         0.         0.         0.         0.\n 0.         0.         0.         0.         0.         0.\n 0.         0.         0.         0.         0.         0.\n 0.         0.         0.         0.         0.         0.\n 0.         0.         0.         0.         0.         0.\n 0.         0.         0.         0.         0.         0.\n 0.         0.         0.         0.         0.         0.\n 0.         0.         0.         0.         0.         0.\n 0.         0.         0.         0.3803922  0.37647063 0.3019608\n 0.46274513 0.2392157  0.         0.         0.         0.\n 0.         0.         0.         0.         0.         0.\n 0.         0.         0.         0.         0.         0.3529412\n 0.5411765  0.9215687  0.9215687  0.9215687  0.9215687  0.9215687\n 0.9215687  0.9843138  0.9843138  0.9725491  0.9960785  0.9607844\n 0.9215687  0.74509805 0.08235294 0.         0.         0.\n 0.         0.         0.         0.         0.         0.\n 0.         0.         0.54901963 0.9843138  0.9960785  0.9960785\n 0.9960785  0.9960785  0.9960785  0.9960785  0.9960785  0.9960785\n 0.9960785  0.9960785  0.9960785  0.9960785  0.9960785  0.9960785\n 0.7411765  0.09019608 0.         0.         0.         0.\n 0.         0.         0.         0.         0.         0.\n 0.8862746  0.9960785  0.81568635 0.7803922  0.7803922  0.7803922\n 0.7803922  0.54509807 0.2392157  0.2392157  0.2392157  0.2392157\n 0.2392157  0.5019608  0.8705883  0.9960785  0.9960785  0.7411765\n 0.08235294 0.         0.         0.         0.         0.\n 0.         0.         0.         0.         0.14901961 0.32156864\n 0.0509804  0.         0.         0.         0.         0.\n 0.         0.         0.         0.         0.         0.\n 0.13333334 0.8352942  0.9960785  0.9960785  0.45098042 0.\n 0.         0.         0.         0.         0.         0.\n 0.         0.         0.         0.         0.         0.\n 0.         0.         0.         0.         0.         0.\n 0.         0.         0.         0.         0.         0.32941177\n 0.9960785  0.9960785  0.9176471  0.         0.         0.\n 0.         0.         0.         0.         0.         0.\n 0.         0.         0.         0.         0.         0.\n 0.         0.         0.         0.         0.         0.\n 0.         0.         0.         0.32941177 0.9960785  0.9960785\n 0.9176471  0.         0.         0.         0.         0.\n 0.         0.         0.         0.         0.         0.\n 0.         0.         0.         0.         0.         0.\n 0.         0.         0.         0.         0.         0.\n 0.4156863  0.6156863  0.9960785  0.9960785  0.95294124 0.20000002\n 0.         0.         0.         0.         0.         0.\n 0.         0.         0.         0.         0.         0.\n 0.         0.         0.         0.         0.         0.09803922\n 0.45882356 0.8941177  0.8941177  0.8941177  0.9921569  0.9960785\n 0.9960785  0.9960785  0.9960785  0.94117653 0.         0.\n 0.         0.         0.         0.         0.         0.\n 0.         0.         0.         0.         0.         0.\n 0.         0.26666668 0.4666667  0.86274517 0.9960785  0.9960785\n 0.9960785  0.9960785  0.9960785  0.9960785  0.9960785  0.9960785\n 0.9960785  0.5568628  0.         0.         0.         0.\n 0.         0.         0.         0.         0.         0.\n 0.         0.         0.         0.14509805 0.73333335 0.9921569\n 0.9960785  0.9960785  0.9960785  0.8745099  0.8078432  0.8078432\n 0.29411766 0.26666668 0.8431373  0.9960785  0.9960785  0.45882356\n 0.         0.         0.         0.         0.         0.\n 0.         0.         0.         0.         0.         0.\n 0.4431373  0.8588236  0.9960785  0.9490197  0.89019614 0.45098042\n 0.34901962 0.12156864 0.         0.         0.         0.\n 0.7843138  0.9960785  0.9450981  0.16078432 0.         0.\n 0.         0.         0.         0.         0.         0.\n 0.         0.         0.         0.         0.6627451  0.9960785\n 0.6901961  0.24313727 0.         0.         0.         0.\n 0.         0.         0.         0.18823531 0.9058824  0.9960785\n 0.9176471  0.         0.         0.         0.         0.\n 0.         0.         0.         0.         0.         0.\n 0.         0.         0.07058824 0.48627454 0.         0.\n 0.         0.         0.         0.         0.         0.\n 0.         0.32941177 0.9960785  0.9960785  0.6509804  0.\n 0.         0.         0.         0.         0.         0.\n 0.         0.         0.         0.         0.         0.\n 0.         0.         0.         0.         0.         0.\n 0.         0.         0.         0.         0.         0.54509807\n 0.9960785  0.9333334  0.22352943 0.         0.         0.\n 0.         0.         0.         0.         0.         0.\n 0.         0.         0.         0.         0.         0.\n 0.         0.         0.         0.         0.         0.\n 0.         0.         0.8235295  0.9803922  0.9960785  0.65882355\n 0.         0.         0.         0.         0.         0.\n 0.         0.         0.         0.         0.         0.\n 0.         0.         0.         0.         0.         0.\n 0.         0.         0.         0.         0.         0.\n 0.9490197  0.9960785  0.93725497 0.22352943 0.         0.\n 0.         0.         0.         0.         0.         0.\n 0.         0.         0.         0.         0.         0.\n 0.         0.         0.         0.         0.         0.\n 0.         0.         0.         0.34901962 0.9843138  0.9450981\n 0.3372549  0.         0.         0.         0.         0.\n 0.         0.         0.         0.         0.         0.\n 0.         0.         0.         0.         0.         0.\n 0.         0.         0.         0.         0.         0.\n 0.01960784 0.8078432  0.96470594 0.6156863  0.         0.\n 0.         0.         0.         0.         0.         0.\n 0.         0.         0.         0.         0.         0.\n 0.         0.         0.         0.         0.         0.\n 0.         0.         0.         0.         0.01568628 0.45882356\n 0.27058825 0.         0.         0.         0.         0.\n 0.         0.         0.         0.         0.         0.\n 0.         0.         0.         0.         0.         0.\n 0.         0.         0.         0.         0.         0.\n 0.         0.         0.         0.         0.         0.\n 0.         0.         0.         0.         0.         0.\n 0.         0.         0.         0.        ]\n(55000, 10)\n(10,)\n"
     ]
    },
    {
     "name": "stdout",
     "output_type": "stream",
     "text": [
      "[0. 0. 0. 0. 0. 0. 0. 1. 0. 0.]\n55000 (55000, 784) (55000, 10)\n5000 (5000, 784) (5000, 10)\n10000 (10000, 784) (10000, 10)\n"
     ]
    },
    {
     "data": {
      "image/png": "[encoded data removed]",
      "text/plain": [
       "<matplotlib.figure.Figure at 0x7f04df8150b8>"
      ]
     },
     "metadata": {},
     "output_type": "display_data"
    }
   ],
   "source": [
    "%matplotlib inline\n",
    "## 데이터 시각화, 전처리\n",
    "\n",
    "print(type(mnist.train))\n",
    "print(dir(mnist))\n",
    "print(type(mnist.train.images), type(mnist.train.labels))\n",
    "print(mnist.train.images.shape)\n",
    "print(mnist.train.images[0].shape)\n",
    "print(mnist.train.images[0])\n",
    "print(mnist.train.labels.shape)\n",
    "print(mnist.train.labels[0].shape)\n",
    "print(mnist.train.labels[0])\n",
    "print(mnist.train.num_examples, mnist.train.images.shape, mnist.train.labels.shape)\n",
    "print(mnist.validation.num_examples, mnist.validation.images.shape, mnist.validation.labels.shape)\n",
    "print(mnist.test.num_examples, mnist.test.images.shape, mnist.test.labels.shape)\n",
    "\n",
    "fig, axes = plt.subplots(5, 5)\n",
    "for i in range(5):\n",
    "    for j in range(5):\n",
    "        axes[i,j].axis('off')\n",
    "        axes[i,j].imshow(mnist.train.images[i*5+j].reshape(28,28))\n",
    "        axes[i,j].set_title(\"%d\" % np.argmax(mnist.train.labels[i*5+j]))"
   ]
  },
  {
   "cell_type": "code",
   "execution_count": 5,
   "metadata": {},
   "outputs": [],
   "source": [
    "## 예측 모델 정의: 소프트맥스 회귀 모델\n",
    "\n",
    "X = tf.placeholder(tf.float32, [None, 784])\n",
    "Y = tf.placeholder(tf.float32, [None, 10])\n",
    "W = tf.Variable(tf.zeros([784, 10]))\n",
    "b = tf.Variable(tf.zeros([10]))\n",
    "# 각 데이터에 대한 각 분류별 점수\n",
    "score = tf.matmul(X, W) + b\n",
    "# 각 데이터에 대한 각 분류별 확률\n",
    "pred = tf.nn.softmax(score)"
   ]
  },
  {
   "cell_type": "code",
   "execution_count": 6,
   "metadata": {},
   "outputs": [],
   "source": [
    "## 손실 함수, 정확도, 최적화 함수 정의\n",
    "\n",
    "cost = tf.reduce_mean(-tf.reduce_sum(Y * tf.log(pred), reduction_indices=[1]))\n",
    "correct_pred = tf.equal(tf.argmax(pred, 1), tf.argmax(Y, 1))            # 예측값과 실제값 비교\n",
    "accuracy = tf.reduce_mean(tf.cast(correct_pred, tf.float32))\n",
    "train_step = tf.train.GradientDescentOptimizer(0.5).minimize(cost)      # 교차 엔트로피를 최소로 해주는 Optimizer"
   ]
  },
  {
   "cell_type": "code",
   "execution_count": 7,
   "metadata": {},
   "outputs": [
    {
     "name": "stdout",
     "output_type": "stream",
     "text": [
      "Epoch: 0001 cost = 0.402182621 , validation accuracy =  0.917800009\n"
     ]
    },
    {
     "name": "stdout",
     "output_type": "stream",
     "text": [
      "Epoch: 0002 cost = 0.309374874 , validation accuracy =  0.921999991\n"
     ]
    },
    {
     "name": "stdout",
     "output_type": "stream",
     "text": [
      "Epoch: 0003 cost = 0.295074638 , validation accuracy =  0.922800004\n"
     ]
    },
    {
     "name": "stdout",
     "output_type": "stream",
     "text": [
      "Epoch: 0004 cost = 0.286868431 , validation accuracy =  0.922599971\n"
     ]
    },
    {
     "name": "stdout",
     "output_type": "stream",
     "text": [
      "Epoch: 0005 cost = 0.281593813 , validation accuracy =  0.924799979\n"
     ]
    },
    {
     "name": "stdout",
     "output_type": "stream",
     "text": [
      "Epoch: 0006 cost = 0.277443858 , validation accuracy =  0.925199986\n"
     ]
    },
    {
     "name": "stdout",
     "output_type": "stream",
     "text": [
      "Epoch: 0007 cost = 0.274202481 , validation accuracy =  0.925400019\n"
     ]
    },
    {
     "name": "stdout",
     "output_type": "stream",
     "text": [
      "Epoch: 0008 cost = 0.271264246 , validation accuracy =  0.924799979\n"
     ]
    },
    {
     "name": "stdout",
     "output_type": "stream",
     "text": [
      "Epoch: 0009 cost = 0.269902347 , validation accuracy =  0.926800013\n"
     ]
    },
    {
     "name": "stdout",
     "output_type": "stream",
     "text": [
      "Epoch: 0010 cost = 0.267272748 , validation accuracy =  0.924600005\n"
     ]
    },
    {
     "name": "stdout",
     "output_type": "stream",
     "text": [
      "Epoch: 0011 cost = 0.266059838 , validation accuracy =  0.927999973\n"
     ]
    },
    {
     "name": "stdout",
     "output_type": "stream",
     "text": [
      "Epoch: 0012 cost = 0.264333623 , validation accuracy =  0.924399972\n"
     ]
    },
    {
     "name": "stdout",
     "output_type": "stream",
     "text": [
      "Epoch: 0013 cost = 0.263199918 , validation accuracy =  0.925199986\n"
     ]
    },
    {
     "name": "stdout",
     "output_type": "stream",
     "text": [
      "Epoch: 0014 cost = 0.261819166 , validation accuracy =  0.928600013\n"
     ]
    },
    {
     "name": "stdout",
     "output_type": "stream",
     "text": [
      "Epoch: 0015 cost = 0.260683608 , validation accuracy =  0.926400006\n"
     ]
    },
    {
     "name": "stdout",
     "output_type": "stream",
     "text": [
      "Epoch: 0016 cost = 0.259695213 , validation accuracy =  0.926599979\n"
     ]
    },
    {
     "name": "stdout",
     "output_type": "stream",
     "text": [
      "Epoch: 0017 cost = 0.259474579 , validation accuracy =  0.924600005\n"
     ]
    },
    {
     "name": "stdout",
     "output_type": "stream",
     "text": [
      "Epoch: 0018 cost = 0.258424604 , validation accuracy =  0.922200024\n"
     ]
    },
    {
     "name": "stdout",
     "output_type": "stream",
     "text": [
      "Epoch: 0019 cost = 0.257914012 , validation accuracy =  0.927999973\n"
     ]
    },
    {
     "name": "stdout",
     "output_type": "stream",
     "text": [
      "Epoch: 0020 cost = 0.257346007 , validation accuracy =  0.928799987\n"
     ]
    },
    {
     "name": "stdout",
     "output_type": "stream",
     "text": [
      "Epoch: 0021 cost = 0.255200968 , validation accuracy =  0.928200006\n"
     ]
    },
    {
     "name": "stdout",
     "output_type": "stream",
     "text": [
      "Epoch: 0022 cost = 0.255524731 , validation accuracy =  0.927399993\n"
     ]
    },
    {
     "name": "stdout",
     "output_type": "stream",
     "text": [
      "Epoch: 0023 cost = 0.254929088 , validation accuracy =  0.929600000\n"
     ]
    },
    {
     "name": "stdout",
     "output_type": "stream",
     "text": [
      "Epoch: 0024 cost = 0.253464550 , validation accuracy =  0.921199977\n"
     ]
    },
    {
     "name": "stdout",
     "output_type": "stream",
     "text": [
      "Epoch: 0025 cost = 0.252642963 , validation accuracy =  0.925999999\n"
     ]
    },
    {
     "name": "stdout",
     "output_type": "stream",
     "text": [
      "Epoch: 0026 cost = 0.252888860 , validation accuracy =  0.925199986\n"
     ]
    },
    {
     "name": "stdout",
     "output_type": "stream",
     "text": [
      "Epoch: 0027 cost = 0.252111207 , validation accuracy =  0.927600026\n"
     ]
    },
    {
     "name": "stdout",
     "output_type": "stream",
     "text": [
      "Epoch: 0028 cost = 0.251548573 , validation accuracy =  0.929600000\n"
     ]
    },
    {
     "name": "stdout",
     "output_type": "stream",
     "text": [
      "Epoch: 0029 cost = 0.251087315 , validation accuracy =  0.931400001\n"
     ]
    },
    {
     "name": "stdout",
     "output_type": "stream",
     "text": [
      "Epoch: 0030 cost = 0.251267759 , validation accuracy =  0.927200019\n"
     ]
    },
    {
     "name": "stdout",
     "output_type": "stream",
     "text": [
      "Epoch: 0031 cost = 0.250124468 , validation accuracy =  0.928200006\n"
     ]
    },
    {
     "name": "stdout",
     "output_type": "stream",
     "text": [
      "Epoch: 0032 cost = 0.249870297 , validation accuracy =  0.926400006\n"
     ]
    },
    {
     "name": "stdout",
     "output_type": "stream",
     "text": [
      "Epoch: 0033 cost = 0.250516596 , validation accuracy =  0.927600026\n"
     ]
    },
    {
     "name": "stdout",
     "output_type": "stream",
     "text": [
      "Epoch: 0034 cost = 0.249380248 , validation accuracy =  0.928600013\n"
     ]
    },
    {
     "name": "stdout",
     "output_type": "stream",
     "text": [
      "Epoch: 0035 cost = 0.248491694 , validation accuracy =  0.926400006\n"
     ]
    },
    {
     "name": "stdout",
     "output_type": "stream",
     "text": [
      "Epoch: 0036 cost = 0.248609011 , validation accuracy =  0.925999999\n"
     ]
    },
    {
     "name": "stdout",
     "output_type": "stream",
     "text": [
      "Epoch: 0037 cost = 0.248127148 , validation accuracy =  0.926400006\n"
     ]
    },
    {
     "name": "stdout",
     "output_type": "stream",
     "text": [
      "Epoch: 0038 cost = 0.247307265 , validation accuracy =  0.927200019\n"
     ]
    },
    {
     "name": "stdout",
     "output_type": "stream",
     "text": [
      "Epoch: 0039 cost = 0.247138070 , validation accuracy =  0.927600026\n"
     ]
    },
    {
     "name": "stdout",
     "output_type": "stream",
     "text": [
      "Epoch: 0040 cost = 0.246866013 , validation accuracy =  0.924000025\n"
     ]
    },
    {
     "name": "stdout",
     "output_type": "stream",
     "text": [
      "Epoch: 0041 cost = 0.247222719 , validation accuracy =  0.928799987\n"
     ]
    },
    {
     "name": "stdout",
     "output_type": "stream",
     "text": [
      "Epoch: 0042 cost = 0.246241197 , validation accuracy =  0.924000025\n"
     ]
    },
    {
     "name": "stdout",
     "output_type": "stream",
     "text": [
      "Epoch: 0043 cost = 0.246199266 , validation accuracy =  0.929199994\n"
     ]
    },
    {
     "name": "stdout",
     "output_type": "stream",
     "text": [
      "Epoch: 0044 cost = 0.245382855 , validation accuracy =  0.924199998\n"
     ]
    },
    {
     "name": "stdout",
     "output_type": "stream",
     "text": [
      "Epoch: 0045 cost = 0.245527393 , validation accuracy =  0.925000012\n"
     ]
    },
    {
     "name": "stdout",
     "output_type": "stream",
     "text": [
      "Epoch: 0046 cost = 0.245270303 , validation accuracy =  0.928200006\n"
     ]
    },
    {
     "name": "stdout",
     "output_type": "stream",
     "text": [
      "Epoch: 0047 cost = 0.244838216 , validation accuracy =  0.924799979\n"
     ]
    },
    {
     "name": "stdout",
     "output_type": "stream",
     "text": [
      "Epoch: 0048 cost = 0.244837255 , validation accuracy =  0.927600026\n"
     ]
    },
    {
     "name": "stdout",
     "output_type": "stream",
     "text": [
      "Epoch: 0049 cost = 0.244172366 , validation accuracy =  0.927600026\n"
     ]
    },
    {
     "name": "stdout",
     "output_type": "stream",
     "text": [
      "Epoch: 0050 cost = 0.244644338 , validation accuracy =  0.923600018\naccuracy =  0.925999999\n훈련 시간: 21.379308700561523\n"
     ]
    }
   ],
   "source": [
    "## 훈련\n",
    "\n",
    "sess = tf.InteractiveSession()\n",
    "tf.global_variables_initializer().run()\n",
    "import time\n",
    "start = time.time()\n",
    "for epoch in range(50):\n",
    "    avg_cost = 0\n",
    "    batch_count = int(mnist.train.num_examples / 100)       # 1 epoch에서 미니 배치 몇개를 돌릴 것인지. (550개)\n",
    "    for _ in range(batch_count):\n",
    "        batch_xs, batch_ys = mnist.train.next_batch(100)    # 100개 짜리 미니 배치를 가져옴 (튜플로 리턴)\n",
    "        c, _ = sess.run([cost, train_step], feed_dict={X: batch_xs, Y: batch_ys})   # _는 쓰고 버릴 익명 변수\n",
    "        avg_cost += c / batch_count\n",
    "    print('Epoch:', '%04d' % (epoch + 1), 'cost =', '{:.9f}'.format(avg_cost), \n",
    "          ', validation accuracy = ', '{:.9f}'.format(sess.run(accuracy, feed_dict={X: mnist.validation.images, Y: mnist.validation.labels})))\n",
    "    # 결과를 보면 한번만 epoch를 거쳐도 92% 가까이 정확도가 나온다.\n",
    "    # 위의 print 에서 accuracy 가 중요(검증 데이터에 대한 결과). training, test, validation data 가 모두 나눠져 있어야 한다.\n",
    "    \n",
    "## 모델 평가\n",
    "# 밑의 accuracy는 테스트 데이터에 대한 결과\n",
    "print('accuracy = ', '{:.9f}'.format(sess.run(accuracy, feed_dict={X: mnist.test.images, Y: mnist.test.labels})))\n",
    "print(\"훈련 시간:\", time.time() - start)  \n",
    "sess.close()\n"
   ]
  },
  {
   "cell_type": "code",
   "execution_count": 8,
   "metadata": {},
   "outputs": [
    {
     "name": "stdout",
     "output_type": "stream",
     "text": [
      "Epoch: 0001 cost = 0.635412880 , validation accuracy =  0.902999997\n"
     ]
    },
    {
     "name": "stdout",
     "output_type": "stream",
     "text": [
      "Epoch: 0002 cost = 0.352473053 , validation accuracy =  0.916000009\n"
     ]
    },
    {
     "name": "stdout",
     "output_type": "stream",
     "text": [
      "Epoch: 0003 cost = 0.314382392 , validation accuracy =  0.921199977\n"
     ]
    },
    {
     "name": "stdout",
     "output_type": "stream",
     "text": [
      "Epoch: 0004 cost = 0.296194850 , validation accuracy =  0.922399998\n"
     ]
    },
    {
     "name": "stdout",
     "output_type": "stream",
     "text": [
      "Epoch: 0005 cost = 0.285643568 , validation accuracy =  0.925599992\n"
     ]
    },
    {
     "name": "stdout",
     "output_type": "stream",
     "text": [
      "Epoch: 0006 cost = 0.278015420 , validation accuracy =  0.926599979\n"
     ]
    },
    {
     "name": "stdout",
     "output_type": "stream",
     "text": [
      "Epoch: 0007 cost = 0.272453250 , validation accuracy =  0.925000012\n"
     ]
    },
    {
     "name": "stdout",
     "output_type": "stream",
     "text": [
      "Epoch: 0008 cost = 0.267920785 , validation accuracy =  0.925999999\n"
     ]
    },
    {
     "name": "stdout",
     "output_type": "stream",
     "text": [
      "Epoch: 0009 cost = 0.264479514 , validation accuracy =  0.928399980\n"
     ]
    },
    {
     "name": "stdout",
     "output_type": "stream",
     "text": [
      "Epoch: 0010 cost = 0.261376457 , validation accuracy =  0.925199986\n"
     ]
    },
    {
     "name": "stdout",
     "output_type": "stream",
     "text": [
      "Epoch: 0011 cost = 0.258991400 , validation accuracy =  0.927600026\n"
     ]
    },
    {
     "name": "stdout",
     "output_type": "stream",
     "text": [
      "Epoch: 0012 cost = 0.257020963 , validation accuracy =  0.928799987\n"
     ]
    },
    {
     "name": "stdout",
     "output_type": "stream",
     "text": [
      "Epoch: 0013 cost = 0.254849285 , validation accuracy =  0.926999986\n"
     ]
    },
    {
     "name": "stdout",
     "output_type": "stream",
     "text": [
      "Epoch: 0014 cost = 0.253187945 , validation accuracy =  0.928200006\n"
     ]
    },
    {
     "name": "stdout",
     "output_type": "stream",
     "text": [
      "Epoch: 0015 cost = 0.251508746 , validation accuracy =  0.929799974\n"
     ]
    },
    {
     "name": "stdout",
     "output_type": "stream",
     "text": [
      "Epoch: 0016 cost = 0.250003543 , validation accuracy =  0.930000007\n"
     ]
    },
    {
     "name": "stdout",
     "output_type": "stream",
     "text": [
      "Epoch: 0017 cost = 0.248631061 , validation accuracy =  0.928200006\n"
     ]
    },
    {
     "name": "stdout",
     "output_type": "stream",
     "text": [
      "Epoch: 0018 cost = 0.247426515 , validation accuracy =  0.929400027\n"
     ]
    },
    {
     "name": "stdout",
     "output_type": "stream",
     "text": [
      "Epoch: 0019 cost = 0.246180694 , validation accuracy =  0.930199981\n"
     ]
    },
    {
     "name": "stdout",
     "output_type": "stream",
     "text": [
      "Epoch: 0020 cost = 0.245207635 , validation accuracy =  0.930599988\n"
     ]
    },
    {
     "name": "stdout",
     "output_type": "stream",
     "text": [
      "Epoch: 0021 cost = 0.244963663 , validation accuracy =  0.930199981\n"
     ]
    },
    {
     "name": "stdout",
     "output_type": "stream",
     "text": [
      "Epoch: 0022 cost = 0.243772535 , validation accuracy =  0.930000007\n"
     ]
    },
    {
     "name": "stdout",
     "output_type": "stream",
     "text": [
      "Epoch: 0023 cost = 0.242799851 , validation accuracy =  0.930800021\n"
     ]
    },
    {
     "name": "stdout",
     "output_type": "stream",
     "text": [
      "Epoch: 0024 cost = 0.241762322 , validation accuracy =  0.928600013\n"
     ]
    },
    {
     "name": "stdout",
     "output_type": "stream",
     "text": [
      "Epoch: 0025 cost = 0.241423342 , validation accuracy =  0.929199994\n"
     ]
    },
    {
     "name": "stdout",
     "output_type": "stream",
     "text": [
      "Epoch: 0026 cost = 0.240829450 , validation accuracy =  0.928200006\n"
     ]
    },
    {
     "name": "stdout",
     "output_type": "stream",
     "text": [
      "Epoch: 0027 cost = 0.240065318 , validation accuracy =  0.928799987\n"
     ]
    },
    {
     "name": "stdout",
     "output_type": "stream",
     "text": [
      "Epoch: 0028 cost = 0.239291749 , validation accuracy =  0.930199981\n"
     ]
    },
    {
     "name": "stdout",
     "output_type": "stream",
     "text": [
      "Epoch: 0029 cost = 0.238804426 , validation accuracy =  0.927999973\n"
     ]
    },
    {
     "name": "stdout",
     "output_type": "stream",
     "text": [
      "Epoch: 0030 cost = 0.238305500 , validation accuracy =  0.928600013\n"
     ]
    },
    {
     "name": "stdout",
     "output_type": "stream",
     "text": [
      "Epoch: 0031 cost = 0.237582333 , validation accuracy =  0.930000007\n"
     ]
    },
    {
     "name": "stdout",
     "output_type": "stream",
     "text": [
      "Epoch: 0032 cost = 0.237017363 , validation accuracy =  0.931599975\n"
     ]
    },
    {
     "name": "stdout",
     "output_type": "stream",
     "text": [
      "Epoch: 0033 cost = 0.236670336 , validation accuracy =  0.930400014\n"
     ]
    },
    {
     "name": "stdout",
     "output_type": "stream",
     "text": [
      "Epoch: 0034 cost = 0.236329013 , validation accuracy =  0.930999994\n"
     ]
    },
    {
     "name": "stdout",
     "output_type": "stream",
     "text": [
      "Epoch: 0035 cost = 0.235790084 , validation accuracy =  0.930400014\n"
     ]
    },
    {
     "name": "stdout",
     "output_type": "stream",
     "text": [
      "Epoch: 0036 cost = 0.234973014 , validation accuracy =  0.930400014\n"
     ]
    },
    {
     "name": "stdout",
     "output_type": "stream",
     "text": [
      "Epoch: 0037 cost = 0.234714930 , validation accuracy =  0.929400027\n"
     ]
    },
    {
     "name": "stdout",
     "output_type": "stream",
     "text": [
      "Epoch: 0038 cost = 0.234399596 , validation accuracy =  0.930599988\n"
     ]
    },
    {
     "name": "stdout",
     "output_type": "stream",
     "text": [
      "Epoch: 0039 cost = 0.233820642 , validation accuracy =  0.930599988\n"
     ]
    },
    {
     "name": "stdout",
     "output_type": "stream",
     "text": [
      "Epoch: 0040 cost = 0.233721750 , validation accuracy =  0.929000020\n"
     ]
    },
    {
     "name": "stdout",
     "output_type": "stream",
     "text": [
      "Epoch: 0041 cost = 0.233088217 , validation accuracy =  0.928399980\n"
     ]
    },
    {
     "name": "stdout",
     "output_type": "stream",
     "text": [
      "Epoch: 0042 cost = 0.232938872 , validation accuracy =  0.929600000\n"
     ]
    },
    {
     "name": "stdout",
     "output_type": "stream",
     "text": [
      "Epoch: 0043 cost = 0.232733904 , validation accuracy =  0.930800021\n"
     ]
    },
    {
     "name": "stdout",
     "output_type": "stream",
     "text": [
      "Epoch: 0044 cost = 0.232294248 , validation accuracy =  0.927200019\n"
     ]
    },
    {
     "name": "stdout",
     "output_type": "stream",
     "text": [
      "Epoch: 0045 cost = 0.232154672 , validation accuracy =  0.929199994\n"
     ]
    },
    {
     "name": "stdout",
     "output_type": "stream",
     "text": [
      "Epoch: 0046 cost = 0.231451694 , validation accuracy =  0.927600026\n"
     ]
    },
    {
     "name": "stdout",
     "output_type": "stream",
     "text": [
      "Epoch: 0047 cost = 0.231438948 , validation accuracy =  0.929000020\n"
     ]
    },
    {
     "name": "stdout",
     "output_type": "stream",
     "text": [
      "Epoch: 0048 cost = 0.231040797 , validation accuracy =  0.927999973\n"
     ]
    },
    {
     "name": "stdout",
     "output_type": "stream",
     "text": [
      "Epoch: 0049 cost = 0.230339534 , validation accuracy =  0.926599979\n"
     ]
    },
    {
     "name": "stdout",
     "output_type": "stream",
     "text": [
      "Epoch: 0050 cost = 0.230086151 , validation accuracy =  0.930400014\naccuracy =  0.925999999\n훈련 시간: 22.457908868789673\n0.926\n"
     ]
    }
   ],
   "source": [
    "## 재훈련: 최적화 알고리듬 변경 (Adam)\n",
    "\n",
    "train_step = tf.train.AdamOptimizer(0.001).minimize(cost)\n",
    "\n",
    "sess = tf.InteractiveSession()\n",
    "tf.global_variables_initializer().run()\n",
    "import time\n",
    "start = time.time()\n",
    "for epoch in range(50):\n",
    "    avg_cost = 0\n",
    "    batch_count = int(mnist.train.num_examples / 100)\n",
    "    for _ in range(batch_count):\n",
    "        batch_xs, batch_ys = mnist.train.next_batch(100)\n",
    "        c, _  = sess.run([cost, train_step], feed_dict={X: batch_xs, Y: batch_ys})\n",
    "        avg_cost += c / batch_count\n",
    "    print('Epoch:', '%04d' % (epoch + 1), 'cost =', '{:.9f}'.format(avg_cost), \n",
    "          ', validation accuracy = ', '{:.9f}'.format(sess.run(accuracy, feed_dict={X: mnist.validation.images, Y: mnist.validation.labels})))\n",
    "    \n",
    "print('accuracy = ', '{:.9f}'.format(sess.run(accuracy, feed_dict={X: mnist.test.images, Y: mnist.test.labels})))\n",
    "print(\"훈련 시간:\", time.time() - start)  \n",
    "\n",
    "## 모델 평가\n",
    "\n",
    "print(sess.run(accuracy, feed_dict={X: mnist.test.images, Y: mnist.test.labels}))\n",
    "sess.close()\n"
   ]
  },
  {
   "cell_type": "code",
   "execution_count": null,
   "metadata": {},
   "outputs": [],
   "source": []
  }
 ],
 "metadata": {
  "kernelspec": {
   "display_name": "Python 3",
   "language": "python",
   "name": "python3"
  },
  "language_info": {
   "codemirror_mode": {
    "name": "ipython",
    "version": 3
   },
   "file_extension": ".py",
   "mimetype": "text/x-python",
   "name": "python",
   "nbconvert_exporter": "python",
   "pygments_lexer": "ipython3",
   "version": "3.6.5"
  }
 },
 "nbformat": 4,
 "nbformat_minor": 2
}

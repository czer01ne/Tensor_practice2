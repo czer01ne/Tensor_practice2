{
 "cells": [
  {
   "cell_type": "code",
   "execution_count": 1,
   "metadata": {},
   "outputs": [
    {
     "name": "stderr",
     "output_type": "stream",
     "text": [
      "C:\\Anaconda3\\lib\\site-packages\\h5py\\__init__.py:36: FutureWarning: Conversion of the second argument of issubdtype from `float` to `np.floating` is deprecated. In future, it will be treated as `np.float64 == np.dtype(float).type`.\n",
      "  from ._conv import register_converters as _register_converters\n"
     ]
    },
    {
     "name": "stdout",
     "output_type": "stream",
     "text": [
      "   age     sex   bmi  children smoker     region  expenses\n",
      "0   19  female  27.9         0    yes  southwest  16884.92\n",
      "1   18    male  33.8         1     no  southeast   1725.55\n",
      "2   28    male  33.0         3     no  southeast   4449.46\n",
      "3   33    male  22.7         0     no  northwest  21984.47\n",
      "4   32    male  28.9         0     no  northwest   3866.86\n",
      "<class 'pandas.core.frame.DataFrame'>\n",
      "[19 18 28 ... 18 21 61] <class 'numpy.ndarray'>\n",
      "[16884.92  1725.55  4449.46 ...  1629.83  2007.95 29141.36] <class 'numpy.ndarray'>\n"
     ]
    }
   ],
   "source": [
    "# %load insurance_simple_linear_regression_gd_tf_test.py\n",
    "import tensorflow as tf\n",
    "import math\n",
    "import numpy as np\n",
    "import pandas as pd\n",
    "\n",
    "## 데이터 수집\n",
    "\n",
    "insurance = pd.read_csv(\"insurance.csv\")\n",
    "print(insurance[0:5])\n",
    "print(type(insurance))\n",
    "\n",
    "age = insurance[\"age\"].values\n",
    "expenses = insurance[\"expenses\"].values\n",
    "print(age, type(age))\n",
    "print(expenses, type(expenses))"
   ]
  },
  {
   "cell_type": "code",
   "execution_count": 2,
   "metadata": {},
   "outputs": [],
   "source": [
    "## 예측 모델 정의\n",
    "\n",
    "X = tf.placeholder(\"float\")\n",
    "Y = tf.placeholder(\"float\")\n",
    "\n",
    "tf_coef = tf.Variable(tf.random_uniform([1], -1.0, 1.0))\n",
    "tf_intercept = tf.Variable(tf.random_uniform([1], -1.0, 1.0))\n",
    "tf_expenses_pred = tf_coef * X + tf_intercept"
   ]
  },
  {
   "cell_type": "code",
   "execution_count": 3,
   "metadata": {},
   "outputs": [],
   "source": [
    "## 비용 함수, 최적화 함수 정의\n",
    "\n",
    "tf_cost = tf.reduce_mean(tf.square(tf_expenses_pred - Y))\n",
    "a = tf.Variable(0.1) # 학습률 alpha. 가중치가 infinity, nan으로 발산\n",
    "#a = tf.Variable(0.0001) # 학습률 alpha\n",
    "optimizer = tf.train.GradientDescentOptimizer(a)\n",
    "train = optimizer.minimize(tf_cost)\n",
    "# 변수 초기화\n",
    "init = tf.global_variables_initializer()"
   ]
  },
  {
   "cell_type": "code",
   "execution_count": 4,
   "metadata": {},
   "outputs": [
    {
     "name": "stdout",
     "output_type": "stream",
     "text": [
      "0 22499322000000.0 4743345.07441489 [114163.945] [2652.651]\n",
      "10000 nan nan [nan] [nan]\n",
      "20000 nan nan [nan] [nan]\n"
     ]
    }
   ],
   "source": [
    "## 훈련\n",
    "sess = tf.Session()\n",
    "sess.run(init)\n",
    "for step in range(30000):\n",
    "    sess.run(train, feed_dict={X: age, Y: expenses})\n",
    "    if step % 10000 == 0:\n",
    "        cost, coef, intercept = sess.run([tf_cost, tf_coef, tf_intercept],\n",
    "                                         feed_dict={X: age, Y: expenses})\n",
    "        print(step, cost, math.sqrt(cost), coef, intercept)\n",
    "sess.close()"
   ]
  },
  {
   "cell_type": "code",
   "execution_count": 5,
   "metadata": {},
   "outputs": [
    {
     "name": "stdout",
     "output_type": "stream",
     "text": [
      "0 22530247000000.0 4746603.7435589675 [114242.16] [2654.244]\n",
      "1 2.6982463e+18 1642633963.992324 [-39421680.] [-891041.5]\n",
      "2 3.231469e+23 568460106031.2906 [1.3642623e+10] [3.0841117e+08]\n",
      "3 3.870066e+28 196724832904659.88 [-4.7212507e+12] [-1.0673061e+11]\n",
      "4 4.6348627e+33 6.807982573310499e+16 [1.6338656e+15] [3.6935855e+13]\n",
      "5 inf inf [-5.6542564e+17] [-1.2782253e+16]\n",
      "6 inf inf [1.956747e+20] [4.4235057e+18]\n",
      "7 inf inf [-6.7716403e+22] [-1.5308257e+21]\n",
      "8 inf inf [2.343436e+25] [5.2976707e+23]\n",
      "9 inf inf [-8.109841e+27] [-1.833345e+26]\n"
     ]
    }
   ],
   "source": [
    "## 재훈련 (발산 원인 분석)\n",
    "sess = tf.Session()\n",
    "sess.run(init)\n",
    "init = tf.global_variables_initializer()\n",
    "for step in range(10):\n",
    "    sess.run(train, feed_dict={X: age, Y: expenses})\n",
    "    if step % 1 == 0:\n",
    "        cost, coef, intercept = sess.run([tf_cost, tf_coef, tf_intercept],\n",
    "                                         feed_dict={X: age, Y: expenses})\n",
    "        print(step, cost, math.sqrt(cost), coef, intercept)\n",
    "sess.close()"
   ]
  },
  {
   "cell_type": "code",
   "execution_count": 6,
   "metadata": {},
   "outputs": [
    {
     "name": "stdout",
     "output_type": "stream",
     "text": [
      "0 214883500.0 14658.905279726723 [114.062386] [2.2657852]\n",
      "10000 134161130.0 11582.794481471214 [314.60992] [649.46375]\n",
      "20000 133898030.0 11571.431717812624 [303.0418] [1161.1812]\n",
      "30000 133731050.0 11564.214110781588 [293.82608] [1568.8401]\n",
      "40000 133625064.0 11559.630789951727 [286.48447] [1893.5985]\n",
      "50000 133557816.0 11556.721680476692 [280.63562] [2152.3245]\n",
      "60000 133515110.0 11554.873949983185 [275.9764] [2358.4243]\n",
      "70000 133488040.0 11553.702436881435 [272.26465] [2522.6152]\n",
      "80000 133470850.0 11552.958408996372 [269.3075] [2653.4255]\n",
      "90000 133459950.0 11552.486831847073 [266.95206] [2757.6184]\n",
      "100000 133453016.0 11552.18663284142 [265.07516] [2840.6433]\n",
      "110000 133448620.0 11551.996537395604 [263.58054] [2906.7598]\n",
      "120000 133445816.0 11551.874999323703 [262.38947] [2959.4468]\n",
      "130000 133444056.0 11551.798820962907 [261.4404] [3001.427]\n",
      "140000 133442930.0 11551.749997294783 [260.68527] [3034.8323]\n",
      "150000 133442216.0 11551.719179412214 [260.0828] [3061.4817]\n",
      "160000 133441750.0 11551.699095804046 [259.60352] [3082.6836]\n",
      "170000 133441480.0 11551.687322638196 [259.2227] [3099.5303]\n",
      "180000 133441304.0 11551.679704700957 [258.91925] [3112.951]\n",
      "190000 133441176.0 11551.67416437981 [258.6776] [3123.6404]\n",
      "200000 133441120.0 11551.671740488473 [258.4857] [3132.1301]\n",
      "210000 133441060.0 11551.668970326322 [258.32327] [3139.3152]\n",
      "220000 133441040.0 11551.66827778568 [258.2129] [3144.198]\n",
      "230000 133441010.0 11551.666892704274 [258.1025] [3149.0808]\n",
      "240000 133441010.0 11551.666892704274 [258.0395] [3151.8687]\n",
      "250000 133440990.0 11551.666200163507 [257.9843] [3154.31]\n",
      "260000 133440984.0 11551.665853893108 [257.9291] [3156.7515]\n",
      "270000 133440984.0 11551.665853893108 [257.87393] [3159.1929]\n",
      "280000 133440990.0 11551.666200163507 [257.8443] [3160.5042]\n",
      "290000 133440990.0 11551.666200163507 [257.8443] [3160.5042]\n"
     ]
    }
   ],
   "source": [
    "## 재훈련 (학습률 조정)\n",
    "sess = tf.Session()\n",
    "sess.run(init)\n",
    "assign = a.assign(0.0001)\n",
    "sess.run(assign)\n",
    "optimizer = tf.train.GradientDescentOptimizer(a)\n",
    "train = optimizer.minimize(tf_cost)\n",
    "\n",
    "for step in range(300000):\n",
    "    sess.run(train, feed_dict={X: age, Y: expenses})\n",
    "    if step % 10000 == 0:\n",
    "        cost, coef, intercept = sess.run([tf_cost, tf_coef, tf_intercept],\n",
    "                                         feed_dict={X: age, Y: expenses})\n",
    "        print(step, cost, math.sqrt(cost), coef, intercept)"
   ]
  },
  {
   "cell_type": "code",
   "execution_count": 7,
   "metadata": {},
   "outputs": [
    {
     "name": "stdout",
     "output_type": "stream",
     "text": [
      "[ 8317.39013672 13474.27612305 18631.16210938]\n",
      "[ 8317.39  13474.275 18631.162]\n"
     ]
    }
   ],
   "source": [
    "## 예측\n",
    "coef = sess.run(tf_coef)\n",
    "intercept = sess.run(tf_intercept)\n",
    "print(coef * np.array([20, 40, 60]) + intercept)\n",
    "\n",
    "print(sess.run(tf_expenses_pred, feed_dict={X: [20.0, 40.0, 60.0]}))\n",
    "sess.close()"
   ]
  },
  {
   "cell_type": "code",
   "execution_count": null,
   "metadata": {},
   "outputs": [],
   "source": []
  }
 ],
 "metadata": {
  "kernelspec": {
   "display_name": "Python 3",
   "language": "python",
   "name": "python3"
  },
  "language_info": {
   "codemirror_mode": {
    "name": "ipython",
    "version": 3
   },
   "file_extension": ".py",
   "mimetype": "text/x-python",
   "name": "python",
   "nbconvert_exporter": "python",
   "pygments_lexer": "ipython3",
   "version": "3.6.5"
  }
 },
 "nbformat": 4,
 "nbformat_minor": 2
}
